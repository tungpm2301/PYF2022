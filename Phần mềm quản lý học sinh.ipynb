{
 "cells": [
  {
   "cell_type": "code",
   "execution_count": 1,
   "id": "6d200998",
   "metadata": {},
   "outputs": [],
   "source": [
    "from tkinter import * \n",
    "from tkinter import messagebox \n",
    "from tkinter import ttk\n",
    "import tkinter as tk \n",
    "\n",
    "windows = Tk()\n",
    "windows.title(\"Phần mềm quản lý dữ liệu học sinh\")\n",
    "windows.geometry(\"1200x800\")\n",
    "windows.eval('tk::PlaceWindow . center')\n",
    "bgwindow = Canvas(windows, bg=\"White\", height = \"2400\",width = \"1600\")\n",
    "\n",
    "\n",
    "list_info = []\n",
    "rating_st = ''\n",
    "\n",
    "def add_student():\n",
    "    global list_info \n",
    "    global rating_st\n",
    "    \n",
    "    rating_student()\n",
    "        \n",
    "    info = [id_entry.get(), name_entry.get(), class_entry.get(), math_entry.get(), english_entry.get(), literature_entry.get(),rating_st]     \n",
    "    \n",
    "    \n",
    "    list_info.append(info)\n",
    "    \n",
    "    tree.insert('', tk.END ,values = info) \n",
    "         \n",
    "    \n",
    "    messagebox.showinfo(\"Add Password\", \"Thêm học sinh thành công\")\n",
    "  \n",
    "    clear_entry_value()\n",
    "\n",
    "\n",
    "def clear_entry_value(): \n",
    "    id_entry.delete(0, END)\n",
    "    name_entry.delete(0, END)\n",
    "    class_entry.delete(0, END)\n",
    "    math_entry.delete(0, END)\n",
    "    english_entry.delete(0, END)\n",
    "    literature_entry.delete(0, END)\n",
    "    \n",
    "    \n",
    "\n",
    "def rating_student():\n",
    "    \n",
    "    global rating_st\n",
    "\n",
    "    result = (float(math_entry.get()) + float(english_entry.get()) + float(literature_entry.get())) / 3\n",
    "    \n",
    "    if result <= 4 :\n",
    "        rating_st = \"HS trung bình\"\n",
    "    elif result <= 7:\n",
    "        rating_st = \"HS khá\"\n",
    "    else:\n",
    "        rating_st = \"HS giỏi\"\n",
    "    \n",
    "\n",
    "\n",
    "def search_info():\n",
    "    \n",
    "    for info in list_info:\n",
    "        id_student = info[0]\n",
    "        if id_student == id_entry.get():\n",
    "            \n",
    "            name = info[1]\n",
    "            class_student = info[2]\n",
    "            math = info[3]\n",
    "            english = info[4]\n",
    "            literature = info[5]\n",
    "            rate = info[6]\n",
    "\n",
    "            messagebox.showinfo(\"Student info\", f\"Name: {name} \\nClass: {class_student} \\n Math point: {math} \\n English point: {english} \\n Literature point {literature} \\n Rating: {rate}\")\n",
    "            break\n",
    "       \n",
    "      \n",
    "    \n",
    "def del_stu():\n",
    "     for info in list_info:\n",
    "        id_student = info[0]\n",
    "        if id_student == id_entry.get():\n",
    "            \n",
    "            list_info.remove(info)\n",
    "            remove_all()\n",
    "            show_all()\n",
    "            \n",
    "             \n",
    "            messagebox.showinfo(\"Student info\", \"Đã xóa học sinh\")\n",
    "            \n",
    "            \n",
    "            break\n",
    "\n",
    "\n",
    "            \n",
    "def remove_all():\n",
    "    for record in tree.get_children():\n",
    "        tree.delete(record)\n",
    "        \n",
    "def show_all():\n",
    "    for info in list_info:\n",
    "        tree.insert('', tk.END ,values = info) \n",
    "           \n",
    "                    \n",
    "\n",
    "                \n",
    "def edit():\n",
    "    for info in list_info:\n",
    "        id_student = info[0]\n",
    "        if id_student == id_entry.get():\n",
    "            \n",
    "            list_info.remove(info) \n",
    "            rating_student()\n",
    "            \n",
    "            info = [id_student, name_entry.get(), class_entry.get(), math_entry.get(), english_entry.get(), literature_entry.get(),rating_st]     \n",
    "    \n",
    "            list_info.append(info)\n",
    "            # tree.insert('', tk.END ,values = info)\n",
    "            messagebox.showinfo(\"Edit info\", \"Đã sửa thành công !\")\n",
    "            remove_all()\n",
    "            show_all()  \n",
    "            clear_entry_value()\n",
    "            break    \n",
    "                \n",
    "                \n",
    "                \n",
    "                \n",
    "# thiết kế giao diện     \n",
    "title = Label(windows, text = \"PHẦN MỀM QUẢN LÝ DỮ LIỆU HỌC SINH\",font=(\"Arial Bold\", 15))\n",
    "\n",
    "id_student = Label(windows, text = \"Mã Học sinh:\", bg='#fff', fg='#f00') ## đổi màu \n",
    "name = Label(windows, text ='Tên học sinh:', bg='#fff', fg='#f00')\n",
    "class_student = Label(windows, text = 'Lớp:', bg='#fff', fg='#f00')\n",
    "math = Label(windows, text ='Điểm toán', bg='#fff', fg='#f00')\n",
    "english = Label(windows, text ='Điểm tiếng Anh:', bg='#fff', fg='#f00')\n",
    "literature = Label(windows, text ='Điểm Văn học:', bg='#fff', fg='#f00')\n",
    "\n",
    "\n",
    "id_entry = Entry(windows,bg = \"yellow\") \n",
    "name_entry = Entry(windows)\n",
    "class_entry = Entry(windows)\n",
    "math_entry = Entry(windows)\n",
    "english_entry = Entry(windows)\n",
    "literature_entry = Entry(windows)\n",
    "#rate_entry = Entry(windows)\n",
    "\n",
    "\n",
    "Add_btn = Button(windows, text = \"Add\", width = 10, bg = \"green\",fg=\"white\", command = add_student)\n",
    "Search_btn = Button(windows, text = \"Search\", width = 10, bg = \"Blue\",fg=\"white\", command = search_info)\n",
    "Delstu_btn = Button(windows, text = \"Delete\", width = 10,bg = \"red\",fg=\"white\", command = del_stu)\n",
    "sua_btn = Button(windows, text = \"Edit\", width = 10,bg = \"white\",fg=\"black\",command = edit)                    \n",
    "\n",
    "\n",
    "title.place(x = 150, y = 30)\n",
    "id_student.place(x = 100, y = 80)\n",
    "name.place(x = 100, y = 110)\n",
    "class_student.place(x = 100, y = 140)\n",
    "math.place(x = 100, y = 170)\n",
    "english.place(x = 100, y = 200)\n",
    "literature.place(x = 100, y = 230)\n",
    "\n",
    "\n",
    "\n",
    "id_entry.place(x = 200, y = 80)\n",
    "name_entry.place(x = 200, y = 110)\n",
    "class_entry.place(x = 200, y = 140)\n",
    "math_entry.place(x = 200, y = 170)\n",
    "english_entry.place(x = 200, y = 200)\n",
    "literature_entry.place(x = 200, y = 230)\n",
    "\n",
    "\n",
    "\n",
    "Add_btn.place(x = 100, y = 350)\n",
    "Search_btn.place(x = 200, y = 350)\n",
    "Delstu_btn.place(x = 300, y = 350) \n",
    "sua_btn.place(x = 400, y = 350)\n",
    "bgwindow.pack()\n",
    "\n",
    "\n",
    "\n",
    "#treeview\n",
    "columns = ('ID', 'Name', 'Class', 'Math', 'English', 'Literature', 'Rate')\n",
    "\n",
    "tree = ttk.Treeview(windows, columns=columns, show='headings')\n",
    "\n",
    "tree.column('ID', width = 40)\n",
    "tree.column('Name', width = 60)\n",
    "tree.column('Class', width = 60)\n",
    "tree.column('Math', width = 60)\n",
    "tree.column('English', width = 60)\n",
    "tree.column('Literature', width = 70)\n",
    "tree.column('Rate', width = 100)\n",
    "\n",
    "# define headings\n",
    "tree.heading('ID', text='ID')\n",
    "tree.heading('Name', text='Name')\n",
    "tree.heading('Class', text='Class')\n",
    "tree.heading('Math', text='English')\n",
    "tree.heading('English', text='Math')\n",
    "tree.heading('Literature', text='Literature')\n",
    "tree.heading('Rate', text='Rate')\n",
    "\n",
    "    \n",
    "    \n",
    "tree.place(x=350,y= 80)\n",
    "\n",
    "\n",
    "windows.mainloop()"
   ]
  },
  {
   "cell_type": "code",
   "execution_count": 3,
   "id": "411d7f45",
   "metadata": {},
   "outputs": [
    {
     "name": "stdout",
     "output_type": "stream",
     "text": [
      "1\n",
      "2\n",
      "4\n"
     ]
    }
   ],
   "source": []
  },
  {
   "cell_type": "code",
   "execution_count": 21,
   "id": "e873e7ed",
   "metadata": {},
   "outputs": [
    {
     "name": "stdout",
     "output_type": "stream",
     "text": [
      "Here\n",
      "Here\n"
     ]
    }
   ],
   "source": []
  },
  {
   "cell_type": "code",
   "execution_count": 34,
   "id": "d4701f34",
   "metadata": {},
   "outputs": [
    {
     "name": "stdout",
     "output_type": "stream",
     "text": [
      "{'Numbers': {1: 56, 3: 7}, 'Letters': {4: 'b'}}\n"
     ]
    }
   ],
   "source": []
  },
  {
   "cell_type": "code",
   "execution_count": 22,
   "id": "24f85654",
   "metadata": {},
   "outputs": [
    {
     "ename": "AttributeError",
     "evalue": "'Treeview' object has no attribute 'call'",
     "output_type": "error",
     "traceback": [
      "\u001b[1;31m---------------------------------------------------------------------------\u001b[0m",
      "\u001b[1;31mAttributeError\u001b[0m                            Traceback (most recent call last)",
      "Input \u001b[1;32mIn [22]\u001b[0m, in \u001b[0;36m<module>\u001b[1;34m\u001b[0m\n\u001b[0;32m     27\u001b[0m \u001b[38;5;28;01mfor\u001b[39;00m info \u001b[38;5;129;01min\u001b[39;00m list_info:\n\u001b[0;32m     28\u001b[0m     tree\u001b[38;5;241m.\u001b[39minsert(\u001b[38;5;124m'\u001b[39m\u001b[38;5;124m'\u001b[39m, tk\u001b[38;5;241m.\u001b[39mEND, values\u001b[38;5;241m=\u001b[39minfo)\n\u001b[1;32m---> 29\u001b[0m     \u001b[43mtree\u001b[49m\u001b[38;5;241;43m.\u001b[39;49m\u001b[43mcall\u001b[49m(tree\u001b[38;5;241m.\u001b[39m_w, \u001b[38;5;124m\"\u001b[39m\u001b[38;5;124mdelete\u001b[39m\u001b[38;5;124m\"\u001b[39m, info)\n\u001b[0;32m     31\u001b[0m tree\u001b[38;5;241m.\u001b[39mgrid(row\u001b[38;5;241m=\u001b[39m\u001b[38;5;241m0\u001b[39m, column\u001b[38;5;241m=\u001b[39m\u001b[38;5;241m0\u001b[39m, sticky\u001b[38;5;241m=\u001b[39m\u001b[38;5;124m'\u001b[39m\u001b[38;5;124mnsew\u001b[39m\u001b[38;5;124m'\u001b[39m)\n\u001b[0;32m     33\u001b[0m \u001b[38;5;66;03m# run the app\u001b[39;00m\n",
      "\u001b[1;31mAttributeError\u001b[0m: 'Treeview' object has no attribute 'call'"
     ]
    }
   ],
   "source": []
  },
  {
   "cell_type": "code",
   "execution_count": 37,
   "id": "cc8ee5aa",
   "metadata": {},
   "outputs": [
    {
     "name": "stdout",
     "output_type": "stream",
     "text": [
      "20"
     ]
    }
   ],
   "source": []
  },
  {
   "cell_type": "code",
   "execution_count": 40,
   "id": "67b90139",
   "metadata": {},
   "outputs": [
    {
     "name": "stdout",
     "output_type": "stream",
     "text": [
      "abc abc\n"
     ]
    }
   ],
   "source": []
  },
  {
   "cell_type": "code",
   "execution_count": 46,
   "id": "15e1a38d",
   "metadata": {},
   "outputs": [
    {
     "name": "stdout",
     "output_type": "stream",
     "text": [
      "foo\n"
     ]
    }
   ],
   "source": [
    "    "
   ]
  },
  {
   "cell_type": "code",
   "execution_count": 56,
   "id": "0695955f",
   "metadata": {},
   "outputs": [
    {
     "name": "stdout",
     "output_type": "stream",
     "text": [
      "foo\n"
     ]
    }
   ],
   "source": []
  },
  {
   "cell_type": "code",
   "execution_count": 57,
   "id": "84726bc0",
   "metadata": {},
   "outputs": [
    {
     "name": "stdout",
     "output_type": "stream",
     "text": [
      "foo\n"
     ]
    }
   ],
   "source": []
  },
  {
   "cell_type": "code",
   "execution_count": 59,
   "id": "aea96d80",
   "metadata": {},
   "outputs": [
    {
     "name": "stdout",
     "output_type": "stream",
     "text": [
      "foo\n"
     ]
    }
   ],
   "source": []
  },
  {
   "cell_type": "code",
   "execution_count": 48,
   "id": "9287818c",
   "metadata": {},
   "outputs": [],
   "source": []
  },
  {
   "cell_type": "code",
   "execution_count": 55,
   "id": "40838494",
   "metadata": {},
   "outputs": [
    {
     "ename": "IndentationError",
     "evalue": "unindent does not match any outer indentation level (<tokenize>, line 7)",
     "output_type": "error",
     "traceback": [
      "\u001b[1;36m  File \u001b[1;32m<tokenize>:7\u001b[1;36m\u001b[0m\n\u001b[1;33m    print(i, end=',')\u001b[0m\n\u001b[1;37m    ^\u001b[0m\n\u001b[1;31mIndentationError\u001b[0m\u001b[1;31m:\u001b[0m unindent does not match any outer indentation level\n"
     ]
    }
   ],
   "source": []
  },
  {
   "cell_type": "code",
   "execution_count": null,
   "id": "c6d2c8ce",
   "metadata": {},
   "outputs": [],
   "source": []
  }
 ],
 "metadata": {
  "kernelspec": {
   "display_name": "Python 3 (ipykernel)",
   "language": "python",
   "name": "python3"
  },
  "language_info": {
   "codemirror_mode": {
    "name": "ipython",
    "version": 3
   },
   "file_extension": ".py",
   "mimetype": "text/x-python",
   "name": "python",
   "nbconvert_exporter": "python",
   "pygments_lexer": "ipython3",
   "version": "3.10.2"
  }
 },
 "nbformat": 4,
 "nbformat_minor": 5
}
