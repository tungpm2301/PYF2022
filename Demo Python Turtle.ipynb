{
 "cells": [
  {
   "cell_type": "markdown",
   "id": "dc718fde",
   "metadata": {},
   "source": [
    "# TÌM HIỂU THƯ VIỆN TURTLE\n",
    "1. Sử dụng lệnh PIP\n",
    "2. Thư viện Turtle\n",
    "3. Điều khiển chuyển động trong turle\n",
    "4. Điều khiển nét bút trong turtle"
   ]
  },
  {
   "cell_type": "markdown",
   "id": "df7065ed",
   "metadata": {},
   "source": [
    "## LỆNH PIP\n",
    "PIP là một trình quản lý gói cho Python, cho phép cài đặt và\n",
    "quản lý các thư viện và dependency mà không được phân\n",
    "phối như một phần của thư viện chuẩn của Python.\n",
    "> pip command"
   ]
  },
  {
   "cell_type": "markdown",
   "id": "f33877e9",
   "metadata": {},
   "source": [
    "Để kiểm tra pip đang chạy trên máy tính, chúng ta có thể sử dụng command:"
   ]
  },
  {
   "cell_type": "code",
   "execution_count": 4,
   "id": "176a259c",
   "metadata": {},
   "outputs": [
    {
     "name": "stdout",
     "output_type": "stream",
     "text": [
      "pip 21.2.4 from C:\\Users\\user\\AppData\\Local\\Programs\\Python\\Python310\\lib\\site-packages\\pip (python 3.10)\n",
      "\n"
     ]
    }
   ],
   "source": [
    "! pip --version"
   ]
  },
  {
   "cell_type": "code",
   "execution_count": null,
   "id": "83fc6602",
   "metadata": {},
   "outputs": [],
   "source": []
  },
  {
   "cell_type": "markdown",
   "id": "5de29f0c",
   "metadata": {},
   "source": [
    "# THƯ VIỆN TURLTE\n",
    "- Turtle graphic là một chương trình con có sẵn trong python khi bạn đã cài Python lên máy\n",
    "- Turtle được xem như một cây bút vẽ, di chuyển đến đâu là vẽ hình đến đó"
   ]
  },
  {
   "cell_type": "markdown",
   "id": "41610170",
   "metadata": {},
   "source": [
    "### Cài đặt thư viện turtle với pip"
   ]
  },
  {
   "cell_type": "code",
   "execution_count": 1,
   "id": "269755c7",
   "metadata": {},
   "outputs": [
    {
     "name": "stdout",
     "output_type": "stream",
     "text": [
      "Collecting turtle\n",
      "  Downloading turtle-0.0.2.tar.gz (11 kB)\n",
      "  Downloading turtle-0.0.1.tar.gz (10 kB)\n",
      "Collecting PyYAML>=3.08\n",
      "  Downloading PyYAML-6.0-cp310-cp310-win_amd64.whl (151 kB)\n",
      "Using legacy 'setup.py install' for turtle, since package 'wheel' is not installed.\n",
      "Installing collected packages: PyYAML, turtle\n",
      "    Running setup.py install for turtle: started\n",
      "    Running setup.py install for turtle: finished with status 'done'\n",
      "Successfully installed PyYAML-6.0 turtle-0.0.1\n"
     ]
    },
    {
     "name": "stderr",
     "output_type": "stream",
     "text": [
      "    ERROR: Command errored out with exit status 1:\n",
      "     command: 'C:\\Users\\user\\AppData\\Local\\Programs\\Python\\Python310\\python.exe' -c 'import io, os, sys, setuptools, tokenize; sys.argv[0] = '\"'\"'C:\\\\Users\\\\user\\\\AppData\\\\Local\\\\Temp\\\\pip-install-lczr294e\\\\turtle_d5e65066f8634c4c9f5d3b7beb4e1601\\\\setup.py'\"'\"'; __file__='\"'\"'C:\\\\Users\\\\user\\\\AppData\\\\Local\\\\Temp\\\\pip-install-lczr294e\\\\turtle_d5e65066f8634c4c9f5d3b7beb4e1601\\\\setup.py'\"'\"';f = getattr(tokenize, '\"'\"'open'\"'\"', open)(__file__) if os.path.exists(__file__) else io.StringIO('\"'\"'from setuptools import setup; setup()'\"'\"');code = f.read().replace('\"'\"'\\r\\n'\"'\"', '\"'\"'\\n'\"'\"');f.close();exec(compile(code, __file__, '\"'\"'exec'\"'\"'))' egg_info --egg-base 'C:\\Users\\user\\AppData\\Local\\Temp\\pip-pip-egg-info-3urjtlr6'\n",
      "         cwd: C:\\Users\\user\\AppData\\Local\\Temp\\pip-install-lczr294e\\turtle_d5e65066f8634c4c9f5d3b7beb4e1601\\\n",
      "    Complete output (6 lines):\n",
      "    Traceback (most recent call last):\n",
      "      File \"<string>\", line 1, in <module>\n",
      "      File \"C:\\Users\\user\\AppData\\Local\\Temp\\pip-install-lczr294e\\turtle_d5e65066f8634c4c9f5d3b7beb4e1601\\setup.py\", line 40\n",
      "        except ValueError, ve:\n",
      "               ^^^^^^^^^^^^^^\n",
      "    SyntaxError: multiple exception types must be parenthesized\n",
      "    ----------------------------------------\n",
      "WARNING: Discarding https://files.pythonhosted.org/packages/ff/f0/21a42e9e424d24bdd0e509d5ed3c7dfb8f47d962d9c044dba903b0b4a26f/turtle-0.0.2.tar.gz#sha256=edff7868ddfeba60cb2dcc3fb2218f29fd042ab697dcac0723e3e16a330979dd (from https://pypi.org/simple/turtle/). Command errored out with exit status 1: python setup.py egg_info Check the logs for full command output.\n",
      "WARNING: You are using pip version 21.2.4; however, version 22.0.3 is available.\n",
      "You should consider upgrading via the 'C:\\Users\\user\\AppData\\Local\\Programs\\Python\\Python310\\python.exe -m pip install --upgrade pip' command.\n"
     ]
    }
   ],
   "source": [
    "! pip install turtle"
   ]
  },
  {
   "cell_type": "code",
   "execution_count": 6,
   "id": "28256d23",
   "metadata": {},
   "outputs": [],
   "source": [
    "import turtle "
   ]
  },
  {
   "cell_type": "markdown",
   "id": "327a8a11",
   "metadata": {},
   "source": [
    "### Sử dụng turtle"
   ]
  },
  {
   "cell_type": "markdown",
   "id": "10e0be43",
   "metadata": {},
   "source": [
    "Bước 1: Import module turle\n"
   ]
  },
  {
   "cell_type": "code",
   "execution_count": 55,
   "id": "781d6b32",
   "metadata": {},
   "outputs": [],
   "source": [
    "import turtle   "
   ]
  },
  {
   "cell_type": "markdown",
   "id": "d20f3f3f",
   "metadata": {},
   "source": [
    "Bước 2: Tạo đối tượng turle"
   ]
  },
  {
   "cell_type": "code",
   "execution_count": 26,
   "id": "9d62ff7d",
   "metadata": {},
   "outputs": [],
   "source": [
    "pen = turtle.Turtle()"
   ]
  },
  {
   "cell_type": "markdown",
   "id": "62a000c8",
   "metadata": {},
   "source": [
    "Bước 3: Vẽ bằng các phương thức của turtle"
   ]
  },
  {
   "cell_type": "code",
   "execution_count": 39,
   "id": "b772347e",
   "metadata": {},
   "outputs": [],
   "source": [
    "pen.forward(-80)"
   ]
  },
  {
   "cell_type": "markdown",
   "id": "8e0f4830",
   "metadata": {},
   "source": [
    "Bước 4: Hoàn thành vẽ"
   ]
  },
  {
   "cell_type": "code",
   "execution_count": 40,
   "id": "8e4a076e",
   "metadata": {},
   "outputs": [],
   "source": [
    "turtle.done()"
   ]
  },
  {
   "cell_type": "markdown",
   "id": "850cff26",
   "metadata": {},
   "source": [
    "### Thực hành: Vẽ hình vuông"
   ]
  },
  {
   "cell_type": "code",
   "execution_count": 38,
   "id": "c8728429",
   "metadata": {},
   "outputs": [],
   "source": [
    "import turtle\n",
    "pen = turtle.Turtle()\n",
    "pen.right(72)\n",
    "pen.forward(100)\n",
    "pen.right(144)\n",
    "pen.forward(100) \n",
    "pen.right(144)\n",
    "pen.forward(100)\n",
    "pen.right(144)\n",
    "pen.forward(100) \n",
    "pen.right(144)\n",
    "pen.forward(100) \n",
    "pen.right(72)\n",
    "pen.forward(100)\n",
    "pen.right(144)\n",
    "pen.forward(100) \n",
    "pen.right(144)\n",
    "pen.forward(100)\n",
    "pen.right(144)\n",
    "pen.forward(100) \n",
    "pen.right(144)\n",
    "pen.forward(100)\n",
    "pen.right(72)\n",
    "pen.forward(100)\n",
    "pen.right(144)\n",
    "pen.forward(100) \n",
    "pen.right(144)\n",
    "pen.forward(100)\n",
    "pen.right(144)\n",
    "pen.forward(100) \n",
    "pen.right(144)\n",
    "pen.forward(100) \n",
    "pen.right(72)\n",
    "pen.forward(100)\n",
    "pen.right(144)\n",
    "pen.forward(100) \n",
    "pen.right(144)\n",
    "pen.forward(100)\n",
    "pen.right(144)\n",
    "pen.forward(100) \n",
    "pen.right(144)\n",
    "pen.forward(100)\n",
    "pen.right(72)\n",
    "pen.forward(100)\n",
    "pen.right(144)\n",
    "pen.forward(100) \n",
    "pen.right(144)\n",
    "pen.forward(100)\n",
    "pen.right(144)\n",
    "pen.forward(100) \n",
    "pen.right(144)\n",
    "pen.forward(100) \n",
    "pen.right(72)\n",
    "pen.forward(100)\n",
    "pen.right(144)\n",
    "pen.forward(100) \n",
    "pen.right(144)\n",
    "pen.forward(100)\n",
    "pen.right(144)\n",
    "pen.forward(100) \n",
    "pen.right(144)\n",
    "pen.forward(100)\n",
    "pen.right(72)\n",
    "pen.forward(100)\n",
    "pen.right(144)\n",
    "pen.forward(100) \n",
    "pen.right(144)\n",
    "pen.forward(100)\n",
    "pen.right(144)\n",
    "pen.forward(100) \n",
    "pen.right(144)\n",
    "pen.forward(100) \n",
    "pen.right(72)\n",
    "pen.forward(100)\n",
    "pen.right(144)\n",
    "pen.forward(100) \n",
    "pen.right(144)\n",
    "pen.forward(100)\n",
    "pen.right(144)\n",
    "pen.forward(100) \n",
    "pen.right(144)\n",
    "pen.forward(100)\n",
    "\n",
    "turtle.done()"
   ]
  },
  {
   "cell_type": "code",
   "execution_count": null,
   "id": "97f76466",
   "metadata": {},
   "outputs": [],
   "source": []
  },
  {
   "cell_type": "code",
   "execution_count": 54,
   "id": "7e69bd76",
   "metadata": {},
   "outputs": [],
   "source": [
    "import turtle\n",
    "pen = turtle.Turtle()\n",
    "pen.forward(100)\n",
    "pen.right(90)\n",
    "pen.forward(100)\n",
    "pen.right(90)\n",
    "pen.forward(100)\n",
    "pen.right(90)\n",
    "pen.forward(100)\n",
    "pen.right(90)\n",
    "pen.forward(100)\n",
    "pen.right(90)\n",
    "pen.forward(100)\n",
    "pen.right(90)\n",
    "pen.forward(100)\n",
    "pen.right(90)\n",
    "pen.forward(100)\n",
    "pen.right(90)\n",
    "turtle.done()"
   ]
  },
  {
   "cell_type": "code",
   "execution_count": null,
   "id": "cda5e964",
   "metadata": {},
   "outputs": [],
   "source": []
  },
  {
   "cell_type": "markdown",
   "id": "5887d86b",
   "metadata": {},
   "source": [
    "### Thực hành: Vẽ hình tam giác đều"
   ]
  },
  {
   "cell_type": "code",
   "execution_count": null,
   "id": "41bb7bc4",
   "metadata": {},
   "outputs": [],
   "source": []
  },
  {
   "cell_type": "code",
   "execution_count": 48,
   "id": "4bbbad3a",
   "metadata": {},
   "outputs": [],
   "source": [
    "import turtle\n",
    "pen = turtle.Turtle()\n",
    "pen.forward(100)\n",
    "pen.right(120)\n",
    "pen.forward(100)\n",
    "pen.right(120)\n",
    "pen.forward(100)\n",
    "pen.right(120)\n",
    "turtle.done()\n"
   ]
  },
  {
   "cell_type": "markdown",
   "id": "286e4627",
   "metadata": {},
   "source": [
    "### Các lệnh điều khiển nét bút"
   ]
  },
  {
   "cell_type": "markdown",
   "id": "172501b8",
   "metadata": {},
   "source": [
    "Thay đổi kích thước của bút"
   ]
  },
  {
   "cell_type": "code",
   "execution_count": null,
   "id": "7fb9025f",
   "metadata": {},
   "outputs": [],
   "source": [
    "import turtle\n",
    "pen = turtle.Turtle()\n",
    "\n",
    "pen.pensize(4)\n",
    "pen.forward(50)\n",
    "pen.penup()\n",
    "pen.forward(50)\n",
    "pen.pendown()\n",
    "pen.forward(50)\n",
    "pen.fillcolor(\"#CF860A\")\n",
    "pen.forward(100)\n",
    "pen.right(90)\n",
    "pen.forward(100)\n",
    "\n",
    "turtle.done()\n"
   ]
  },
  {
   "cell_type": "markdown",
   "id": "a2f89a48",
   "metadata": {},
   "source": [
    "Nhấc bút lên"
   ]
  },
  {
   "cell_type": "code",
   "execution_count": null,
   "id": "e5ea9ef7",
   "metadata": {},
   "outputs": [],
   "source": []
  },
  {
   "cell_type": "markdown",
   "id": "249ee9cd",
   "metadata": {},
   "source": [
    "Đặt bút xuống"
   ]
  },
  {
   "cell_type": "code",
   "execution_count": null,
   "id": "cbb2b715",
   "metadata": {},
   "outputs": [],
   "source": []
  },
  {
   "cell_type": "markdown",
   "id": "9a4a4e08",
   "metadata": {},
   "source": [
    "### Điều chỉnh màu sắc trong turtle"
   ]
  },
  {
   "cell_type": "markdown",
   "id": "767c4808",
   "metadata": {},
   "source": [
    "Thay đổi màu rùa"
   ]
  },
  {
   "cell_type": "code",
   "execution_count": null,
   "id": "e8e0a962",
   "metadata": {},
   "outputs": [],
   "source": []
  },
  {
   "cell_type": "markdown",
   "id": "e587faf1",
   "metadata": {},
   "source": [
    "Thay đổi màu bút"
   ]
  },
  {
   "cell_type": "code",
   "execution_count": null,
   "id": "4227ed0a",
   "metadata": {},
   "outputs": [],
   "source": []
  },
  {
   "cell_type": "markdown",
   "id": "9f9b669a",
   "metadata": {},
   "source": [
    "Thay đổi tốc độ"
   ]
  },
  {
   "cell_type": "code",
   "execution_count": null,
   "id": "4f7bcc7b",
   "metadata": {},
   "outputs": [],
   "source": []
  }
 ],
 "metadata": {
  "kernelspec": {
   "display_name": "Python 3 (ipykernel)",
   "language": "python",
   "name": "python3"
  },
  "language_info": {
   "codemirror_mode": {
    "name": "ipython",
    "version": 3
   },
   "file_extension": ".py",
   "mimetype": "text/x-python",
   "name": "python",
   "nbconvert_exporter": "python",
   "pygments_lexer": "ipython3",
   "version": "3.10.2"
  }
 },
 "nbformat": 4,
 "nbformat_minor": 5
}
