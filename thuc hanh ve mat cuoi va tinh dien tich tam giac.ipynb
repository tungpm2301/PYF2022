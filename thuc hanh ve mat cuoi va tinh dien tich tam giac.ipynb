{
 "cells": [
  {
   "cell_type": "code",
   "execution_count": 15,
   "id": "262fa114",
   "metadata": {},
   "outputs": [],
   "source": [
    "# vẽ mặt cười \n",
    "\n",
    "import turtle \n",
    "pen = turtle.Turtle()\n",
    "pen.fillcolor(\"blue\")\n",
    "pen.pensize(5)\n",
    "pen.pencolor(\"red\") #doi mau net ve \n",
    "pen.shape(\"circle\")\n",
    "\n",
    "pen.penup()\n",
    "\n",
    "pen.goto(0,-200)\n",
    "\n",
    "facesize = 200 \n",
    "\n",
    "pen.pendown()\n",
    "pen.begin_fill()\n",
    "pen.circle(facesize)\n",
    "pen.end_fill()\n",
    "\n",
    "\n",
    "#ve mat 1 \n",
    "pen.penup()\n",
    "pen.goto(-50,100)\n",
    "yey1 = 15\n",
    "pen.fillcolor(\"white\")\n",
    "\n",
    "pen.pendown()\n",
    "pen.begin_fill()\n",
    "pen.circle(yey1)\n",
    "pen.end_fill()\n",
    "\n",
    "\n",
    "#ve mat 1 \n",
    "pen.penup()\n",
    "pen.goto(50,100)\n",
    "yey2= 15\n",
    "pen.fillcolor(\"white\")\n",
    "pen.pendown()\n",
    "pen.begin_fill()\n",
    "pen.circle(yey2)\n",
    "pen.end_fill()\n",
    "\n",
    "#ve mui\n",
    "pen.penup()\n",
    "pen.goto(0,50)\n",
    "yey2= 15\n",
    "nose = 50\n",
    "pen.pendown()\n",
    "pen.fillcolor(\"black\")\n",
    "pen.begin_fill()\n",
    "pen.circle(-nose,steps=3)\n",
    "pen.end_fill()\n",
    "\n",
    "#ve mieng cuoi\n",
    "\n",
    "pen.penup()\n",
    "pen.goto(-100, -70)\n",
    "\n",
    "pen.pendown()\n",
    "pen.right(90)\n",
    "pen.circle(100,180)\n",
    "\n",
    "\n",
    "\n",
    "\n",
    "turtle.done()\n",
    "\n",
    "\n",
    "\n"
   ]
  },
  {
   "cell_type": "code",
   "execution_count": 16,
   "id": "f417c052",
   "metadata": {},
   "outputs": [
    {
     "name": "stdout",
     "output_type": "stream",
     "text": [
      "72.61843774138907\n"
     ]
    }
   ],
   "source": [
    "# tinh dien tich tam giac\n",
    "\n",
    "a = 10\n",
    "b = 20\n",
    "c = 15\n",
    "\n",
    "p = (a+b+c)/2\n",
    "\n",
    "s=(p *(p-a)*(p-b)*(p-c))**0.5 #phep luy thua\n",
    "\n",
    "print(s)\n",
    "\n"
   ]
  },
  {
   "cell_type": "code",
   "execution_count": null,
   "id": "394c72ab",
   "metadata": {},
   "outputs": [],
   "source": []
  },
  {
   "cell_type": "code",
   "execution_count": null,
   "id": "0f552c41",
   "metadata": {},
   "outputs": [],
   "source": []
  }
 ],
 "metadata": {
  "kernelspec": {
   "display_name": "Python 3 (ipykernel)",
   "language": "python",
   "name": "python3"
  },
  "language_info": {
   "codemirror_mode": {
    "name": "ipython",
    "version": 3
   },
   "file_extension": ".py",
   "mimetype": "text/x-python",
   "name": "python",
   "nbconvert_exporter": "python",
   "pygments_lexer": "ipython3",
   "version": "3.10.2"
  }
 },
 "nbformat": 4,
 "nbformat_minor": 5
}
